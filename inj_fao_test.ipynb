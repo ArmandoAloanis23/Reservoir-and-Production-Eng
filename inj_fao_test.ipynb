{
 "cells": [
  {
   "cell_type": "markdown",
   "metadata": {},
   "source": [
    "# <font color=\"blue\" ><font size=\"4\">An Analytical Pressure Transient Analysis of the Injection Fall-Off Test using Horner Semilog Plot</font></font>\n",
    "<font size=\"2\">This script tries to demonstrate injection fall-off test in a geothermal well using analytical method. The data used in here is dummy/synthetic data. The calculation used Horner plot. Some basic assumptions as stated by (Matthews\n",
    "and Russell, 1967; Earlougher, 1977; Horne, 1995) in (Zarrouk and Mcclean, 2019) to perform the analytical pressure transient analysis\n",
    "- Homogeneous and isotropic porous medium (uniform permeability in all directions)\n",
    "- Neglecting gravity effects\n",
    "- Single phase flow\n",
    "- Porosity, permeability, viscosity and compressibility are constant and therefore independent of pressure\n",
    "\n",
    "</font>\n"
   ]
  },
  {
   "cell_type": "markdown",
   "metadata": {},
   "source": [
    "### <font size = 2><u>The first step is to import the data</u></font>"
   ]
  },
  {
   "cell_type": "code",
   "execution_count": 3,
   "metadata": {},
   "outputs": [
    {
     "name": "stdout",
     "output_type": "stream",
     "text": [
      "                  Time  Res_Press(bar)  Mass_Flow(t/h)\n",
      "0  09/02/2025 21:00:00      159.065153              40\n",
      "1  09/02/2025 21:04:45      159.085343              40\n",
      "2  09/02/2025 21:09:29      159.141243              40\n",
      "3  09/02/2025 21:14:14      159.210143              40\n",
      "4  09/02/2025 21:18:59      159.342443              40\n"
     ]
    }
   ],
   "source": [
    "import pandas as pd\n",
    "import numpy as np\n",
    "import matplotlib.pyplot as plt\n",
    "\n",
    "# Read the csv file\n",
    "rawdf = pd.read_csv('0209_falloff_well_D1.csv')\n",
    "\n",
    "print(rawdf.head(5))"
   ]
  },
  {
   "cell_type": "markdown",
   "metadata": {},
   "source": [
    "<font size=2>It can be seen that the column name are 'Time', 'Res_Press(bar)', and 'Mass_flow(t/h)'.\n",
    "By recognizing this, columns are able to be converted and can be transform into arrays.</font>"
   ]
  },
  {
   "cell_type": "code",
   "execution_count": 4,
   "metadata": {},
   "outputs": [],
   "source": [
    "# Extract each columns from csv into array\n",
    "time = rawdf['Time']\n",
    "res_press = np.array(rawdf['Res_Press(bar)'])\n",
    "flow_th = np.array(rawdf['Mass_Flow(t/h)'])\n",
    "\n",
    "# Convert the data from barg to bara and pressure, t/h to kg/s\n",
    "rawdf['Res_Press(bara)'] = res_press+1 #assuming 1 bar for atmosphere pressure\n",
    "rawdf['Res_Press(Pa)'] = rawdf['Res_Press(bara)']*1e5\n",
    "rawdf['Flow(kg/s)'] = (flow_th*1000)/3600"
   ]
  },
  {
   "cell_type": "markdown",
   "metadata": {},
   "source": [
    "<font size=2>Since the data contains of injection period and fall-off period, I want to make the first data set for the injection and second data set for fall off for easier analysis. Therefore, the data is split when the injection becomes 0 t/h</font>"
   ]
  },
  {
   "cell_type": "code",
   "execution_count": 5,
   "metadata": {},
   "outputs": [],
   "source": [
    "# Find the index where the mass flow is 0\n",
    "split_index = rawdf[rawdf['Mass_Flow(t/h)'] == 0].index[0]\n",
    "# Split the dataframe into two datasets\n",
    "ds1 = rawdf.iloc[:split_index]\n",
    "ds2 = rawdf.iloc[split_index:]\n",
    "# Copy the data into injection dataset and fall-off dataset\n",
    "inj_ds = ds1.copy()\n",
    "fao_ds = ds2.copy()"
   ]
  },
  {
   "cell_type": "markdown",
   "metadata": {},
   "source": [
    "<font size=2>\n",
    "Note that the time column consists of date and time format <i>(mm/dd/yy hh:mm:ss)</i>. Hence, I need to extract the data from the time column, and create a new column of duration (s).\n",
    "The duration column is the difference of time between the n row and n+1 row. \n",
    "For example the 1st column = 2nd row - 1st row; and so on.\n",
    "\n",
    "This was done so the horner time can be perform, on the other hand this column is the $dt$.\n",
    "\n",
    "In addition, when spliting the dataframe, the last row of $dt$ in the <i>inj_ds</i> needs an adjustment because the row after that has already separated, therefore we need to substract the first row of <i>fao_ds</i> to last row of <i>inj_ds</i>\n",
    "</font>"
   ]
  },
  {
   "cell_type": "code",
   "execution_count": 6,
   "metadata": {},
   "outputs": [
    {
     "name": "stdout",
     "output_type": "stream",
     "text": [
      "                  Time  Res_Press(bar)  Mass_Flow(t/h)  Res_Press(bara)  \\\n",
      "93 2025-09-03 03:02:32      168.603231             120       169.603231   \n",
      "94 2025-09-03 03:03:00      168.603231             120       169.603231   \n",
      "95 2025-09-03 03:03:28      168.603231             120       169.603231   \n",
      "96 2025-09-03 03:03:57      168.603231             120       169.603231   \n",
      "97 2025-09-03 03:04:25      168.603231             120       169.603231   \n",
      "\n",
      "    Res_Press(Pa)  Flow(kg/s)  Duration(s)  \n",
      "93    16960323.14   33.333333         28.0  \n",
      "94    16960323.14   33.333333         28.0  \n",
      "95    16960323.14   33.333333         29.0  \n",
      "96    16960323.14   33.333333         28.0  \n",
      "97    16960323.14   33.333333         29.0  \n",
      "                   Time  Res_Press(bar)  Mass_Flow(t/h)  Res_Press(bara)  \\\n",
      "253 2025-09-03 12:49:01      156.163069               0       157.163069   \n",
      "254 2025-09-03 12:53:46      156.147169               0       157.147169   \n",
      "255 2025-09-03 12:58:31      156.127403               0       157.127403   \n",
      "256 2025-09-03 13:03:15      156.079679               0       157.079679   \n",
      "257 2025-09-03 13:08:00      156.078269               0       157.078269   \n",
      "\n",
      "     Res_Press(Pa)  Flow(kg/s)  Duration(s)  \n",
      "253    15716306.91         0.0        285.0  \n",
      "254    15714716.90         0.0        285.0  \n",
      "255    15712740.32         0.0        284.0  \n",
      "256    15707967.90         0.0        285.0  \n",
      "257    15707826.90         0.0          0.0  \n"
     ]
    }
   ],
   "source": [
    "# Convert the time column to datetime format, accessible by pandas\n",
    "inj_ds['Time'] = pd.to_datetime(inj_ds['Time'])\n",
    "fao_ds['Time'] = pd.to_datetime(fao_ds['Time'])\n",
    "\n",
    "# Subtract n row from the n-1 row for duration column\n",
    "inj_ds['Duration(s)'] = inj_ds['Time'].diff().shift(-1).fillna(pd.Timedelta(seconds=0))\n",
    "fao_ds['Duration(s)'] = fao_ds['Time'].diff().shift(-1).fillna(pd.Timedelta(seconds=0))\n",
    "\n",
    "inj_ds['Duration(s)'] = inj_ds['Duration(s)'].dt.total_seconds().astype(float)\n",
    "fao_ds['Duration(s)'] = fao_ds['Duration(s)'].dt.total_seconds().astype(float)\n",
    "\n",
    "# Adjust the last row of inj_ds\n",
    "if not inj_ds.empty and not fao_ds.empty:\n",
    "    inj_ds.loc[inj_ds.index[-1], 'Duration(s)'] = (fao_ds.loc[fao_ds.index[0], 'Time'] - inj_ds.loc[inj_ds.index[-1], 'Time']).total_seconds()\n",
    "\n",
    "print(inj_ds.tail(5))\n",
    "print(fao_ds.tail(5))"
   ]
  },
  {
   "cell_type": "markdown",
   "metadata": {},
   "source": [
    "<font size = 2>Currently, the for the injection phase, the productivity of the well or injectivity index.\n",
    "1. Calculate the pressure for each injection flow rate (average) since the pressure varies\n",
    "2. Plot in the diagram and use regression linear\n",
    "\n",
    "The calculation can be done by using the equation \n",
    "$$ \\dot{m}=II \\times P_{WHP}$$\n",
    "If using the reservoir pressure as the reference:\n",
    "$$ \\dot{m}=II\\, (P_{res}-P_{well})$$\n",
    "</font>"
   ]
  },
  {
   "cell_type": "code",
   "execution_count": 7,
   "metadata": {},
   "outputs": [
    {
     "name": "stdout",
     "output_type": "stream",
     "text": [
      "The pressure of each injection [ 40  80 120] t/h is [16053278.9923077  16464630.58571428 16874573.3834    ] Pa\n"
     ]
    }
   ],
   "source": [
    "# List of mass_flow as if condition to calculate the average of pressure \n",
    "mflowlist = [40, 80, 120]\n",
    "# empty list of pressure\n",
    "press_list = []\n",
    "# Loop through each age and calculate the average\n",
    "for mf in mflowlist:\n",
    "    condition = inj_ds['Mass_Flow(t/h)'] == mf\n",
    "    average = inj_ds[condition]['Res_Press(Pa)'].mean()\n",
    "    press_list.append(average)\n",
    "\n",
    "mflowlist = np.array(mflowlist)\n",
    "press_list = np.array(press_list)\n",
    "print(f\"The pressure of each injection {mflowlist} t/h is {press_list} Pa\")"
   ]
  },
  {
   "cell_type": "markdown",
   "metadata": {},
   "source": [
    "<font size = 2>\n",
    "After that, regression linear need to be done to get the injectivity index. The equation of regression linear defined as\n",
    "\n",
    "$$ Y = b_1 X + b_0$$\n",
    "\n",
    "where the $Y$ is the prediction or dependent variable, $b_1$ is the slope, $X$ is the independent variable and $b_0$ is the y-intercept\n",
    "</font>"
   ]
  },
  {
   "cell_type": "code",
   "execution_count": 8,
   "metadata": {},
   "outputs": [],
   "source": [
    "# Defining regression linear\n",
    "def regression_linear (X, Y):\n",
    "    X_mean = np.mean(X)\n",
    "    Y_mean = np.mean(Y)\n",
    "    #Slope m\n",
    "    b1 = np.sum((X - X_mean) * (Y - Y_mean)) / np.sum((X - X_mean)**2) \n",
    "    # Y-intercept\n",
    "    b0 = Y_mean - (b1 * X_mean) \n",
    "    # regression line\n",
    "    Y_pred = b1*X + b0 \n",
    "    #RMSE calculation\n",
    "    rmse = np.sqrt(np.mean((Y - Y_pred) ** 2)) # rmse\n",
    "    # Calculate the R-squared value\n",
    "    ss_total = np.sum((Y - np.mean(Y))**2)\n",
    "    ss_residual = np.sum((Y - Y_pred)**2)\n",
    "    r_squared = 1 - (ss_residual / ss_total)\n",
    "\n",
    "    return b1, b0, rmse, Y_pred, r_squared"
   ]
  },
  {
   "cell_type": "code",
   "execution_count": 17,
   "metadata": {},
   "outputs": [
    {
     "name": "stdout",
     "output_type": "stream",
     "text": [
      "From the injection data set, the slope is = 9.740712027789337e-05, the Y-intercept = -1523.72650954901 and the R^2 = 0.9999990192085908\n"
     ]
    }
   ],
   "source": [
    "# Make a new data frame for the flow_rate and pressure of injection\n",
    "rawdf2 = {\n",
    "    'Flow_rate(t/h)': mflowlist,\n",
    "    'Pressure(Pa)': press_list\n",
    "}\n",
    "df2 = pd.DataFrame(rawdf2)\n",
    "\n",
    "X_press_inj = df2['Pressure(Pa)']\n",
    "Y_flowr_inj = df2['Flow_rate(t/h)']\n",
    "\n",
    "b1, b0, rmse, Y_pred, r_squared = regression_linear(X_press_inj, Y_flowr_inj)\n",
    "\n",
    "print(f\"From the injection data set, the slope is = {b1}, the Y-intercept = {b0} and the R^2 = {r_squared}\")"
   ]
  },
  {
   "cell_type": "code",
   "execution_count": 18,
   "metadata": {},
   "outputs": [
    {
     "data": {
      "image/png": "[encoded data removed]",
      "text/plain": [
       "<Figure size 600x400 with 1 Axes>"
      ]
     },
     "metadata": {},
     "output_type": "display_data"
    }
   ],
   "source": [
    "## Plotting the original data points\n",
    "plt.figure(figsize=(6, 4))\n",
    "plt.scatter(X_press_inj, Y_flowr_inj, color='blue', label='Data')\n",
    "# Plotting the regression line\n",
    "plt.plot(X_press_inj, Y_pred, color='red', label='Regression Line')\n",
    "# Adding labels and title\n",
    "plt.xlabel('Pressure at 2030 m (bara)')\n",
    "plt.ylabel('Flow Rate (t/h)')\n",
    "plt.legend()\n",
    "# Add Text (Inside the Graph)\n",
    "equation_text = f\"$y = {b1:.2e}x + {b0:.2e}$\\n$R^2 = {r_squared:.3f}$\"\n",
    "ax = plt.gca()\n",
    "ax.text(0.40, 0.2, equation_text, transform=ax.transAxes, \n",
    "        fontsize=12, color=\"black\", verticalalignment='top')\n",
    "# Display the plot\n",
    "plt.show()"
   ]
  },
  {
   "cell_type": "markdown",
   "metadata": {},
   "source": [
    "<font size = 2>\n",
    "Now, for the calculation for the fall-off test <i>(fao_ds)</i>, steps are\n",
    "\n",
    "1. Calculate the time in hours while injection (in <i>inj_ds</i>)\n",
    "2. Calculate the cumulative sum of the duration\n",
    "3. Calculate (T+dt)/dt or the horner time\n",
    "4. Calculate log((T+dt)/dt). This is for regression linear.\n",
    "5. Define the semilog plot of the data and linear plot for the regression linear\n",
    "\n",
    "<font>"
   ]
  },
  {
   "cell_type": "code",
   "execution_count": 11,
   "metadata": {},
   "outputs": [],
   "source": [
    "# Injection duration\n",
    "inject_time = inj_ds['Duration(s)'].sum()\n",
    "inject_time = inject_time/3600\n",
    "\n",
    "# Fall off cumulative duration(second)\n",
    "fao_ds['c_Duration(s)'] = fao_ds['Duration(s)'].cumsum()\n",
    "# Calculation of (T+dt)/dt\n",
    "fao_ds['(T+dt)/dt'] = (inject_time+(fao_ds['c_Duration(s)']/3600)) / (fao_ds['c_Duration(s)']/3600)\n",
    "# log 10 of the T+dt/dt\n",
    "fao_ds['log(T+dt)/dt'] = np.log10(fao_ds['(T+dt)/dt'])"
   ]
  },
  {
   "cell_type": "code",
   "execution_count": 12,
   "metadata": {},
   "outputs": [
    {
     "name": "stdout",
     "output_type": "stream",
     "text": [
      "                  Time  Res_Press(bar)  Mass_Flow(t/h)  Res_Press(bara)  \\\n",
      "0  2025-09-02 21:00:00      159.065153              40       160.065153   \n",
      "1  2025-09-02 21:04:45      159.085343              40       160.085343   \n",
      "2  2025-09-02 21:09:29      159.141243              40       160.141243   \n",
      "3  2025-09-02 21:14:14      159.210143              40       160.210143   \n",
      "4  2025-09-02 21:18:59      159.342443              40       160.342443   \n",
      "\n",
      "   Res_Press(Pa)  Flow(kg/s)  Duration(s)  \n",
      "0     16006515.3   11.111111        285.0  \n",
      "1     16008534.3   11.111111        284.0  \n",
      "2     16014124.3   11.111111        285.0  \n",
      "3     16021014.3   11.111111        285.0  \n",
      "4     16034244.3   11.111111        285.0  \n",
      "                  Time  Res_Press(bar)  Mass_Flow(t/h)  Res_Press(bara)  \\\n",
      "0  2025-09-03 03:04:54      167.532518               0       168.532518   \n",
      "1  2025-09-03 03:05:22      167.248193               0       168.248193   \n",
      "2  2025-09-03 03:05:51      166.963868               0       167.963868   \n",
      "3  2025-09-03 03:06:19      166.679543               0       167.679543   \n",
      "4  2025-09-03 03:06:48      166.395218               0       167.395218   \n",
      "\n",
      "   Res_Press(Pa)  Flow(kg/s)  Duration(s)  c_Duration(s)   (T+dt)/dt  \\\n",
      "0     16853251.8         0.0         28.0           28.0  782.928571   \n",
      "1     16824819.3         0.0         29.0           57.0  385.105263   \n",
      "2     16796386.8         0.0         28.0           85.0  258.576471   \n",
      "3     16767954.3         0.0         29.0          114.0  193.052632   \n",
      "4     16739521.8         0.0         28.0          142.0  155.183099   \n",
      "\n",
      "   log(T+dt)/dt  \n",
      "0      2.893722  \n",
      "1      2.585579  \n",
      "2      2.412589  \n",
      "3      2.285676  \n",
      "4      2.190844  \n"
     ]
    }
   ],
   "source": [
    "# Save file to csv\n",
    "inj_ds.to_csv('inj_ds.csv', index=False)\n",
    "fao_ds.to_csv('fao_ds.csv', index=False)\n",
    "# Read file csv\n",
    "inj_ds = pd.read_csv('inj_ds.csv')\n",
    "fao_ds = pd.read_csv('fao_ds.csv')\n",
    "\n",
    "print(inj_ds.head(5))\n",
    "print(fao_ds.head(5))"
   ]
  },
  {
   "cell_type": "code",
   "execution_count": 19,
   "metadata": {},
   "outputs": [
    {
     "name": "stdout",
     "output_type": "stream",
     "text": [
      "Slope: 427779.9170858103 Pa/cycle, Intercept: 15623090.828876244\n",
      "R^2: 0.9587023346815485\n"
     ]
    }
   ],
   "source": [
    "# Horner time and reservoir pressure \n",
    "X_t = fao_ds['(T+dt)/dt']\n",
    "Y_press = fao_ds['Res_Press(Pa)']\n",
    "\n",
    "# Define which range of t+dt/dt\n",
    "X_horner= fao_ds[fao_ds['log(T+dt)/dt'] < 2.5]['log(T+dt)/dt']\n",
    "X_horner = X_horner.to_numpy()\n",
    "# Filter the data for log(T+dt)/dt less than 2.5 to get the R^2 best value\n",
    "Y_press_rl = fao_ds[fao_ds['log(T+dt)/dt'] < 2.5]['Res_Press(Pa)']\n",
    "Y_press_rl = Y_press_rl.to_numpy()\n",
    "# Slope and intercept calculation\n",
    "b1_1, b0_1, rmse_1, Y_pred_1, r_squared_1 = regression_linear(X_horner, Y_press_rl)\n",
    "print(f\"Slope: {b1_1} Pa/cycle, Intercept: {b0_1}\")\n",
    "print(f\"R^2: {r_squared_1}\")"
   ]
  },
  {
   "cell_type": "code",
   "execution_count": 20,
   "metadata": {},
   "outputs": [
    {
     "data": {
      "image/png": "[encoded data removed]",
      "text/plain": [
       "<Figure size 640x480 with 2 Axes>"
      ]
     },
     "metadata": {},
     "output_type": "display_data"
    }
   ],
   "source": [
    "### Plot the semilog plot and regression line\n",
    "# Create the figure and the first set of axes\n",
    "fig, ax1 = plt.subplots()\n",
    "ax1.semilogx(X_t, Y_press, 'x', color='blue', label='Pressure(Pa)', linestyle='none')\n",
    "ax1.set_xlabel('(T+dt)/dt')\n",
    "ax1.set_ylabel('Pressure (Pa)')\n",
    "\n",
    "# Create the second set of axes that shares the same y-axis\n",
    "ax2 = ax1.twiny()\n",
    "ax2.plot(X_horner, Y_pred_1, color='red', label='Regression line')\n",
    "ax2.set_xlabel('')\n",
    "ax2.set_xticks([])  # Hide x-ticks\n",
    "ax2.set_xticklabels([])  # Hide x-tick labels\n",
    "\n",
    "# Add titles and legends\n",
    "# plt.title('Two Datasets with Shared Y-axis')\n",
    "ax1.legend(loc='upper left')\n",
    "ax2.legend(loc='upper right')\n",
    "ax1.grid(True, which='both', alpha=0.5)\n",
    "ax2.grid(True, which='both', alpha=0.5)\n",
    "# Show the plot\n",
    "equation_text = f\"$y = {b1_1:.2e}x + {b0_1:.2e}$\\n$R^2 = {r_squared_1:.3f}$\"\n",
    "ax = plt.gca()\n",
    "ax.text(0.40, 0.2, equation_text, transform=ax.transAxes, \n",
    "        fontsize=12, color=\"black\", verticalalignment='top')\n",
    "plt.show()"
   ]
  },
  {
   "cell_type": "markdown",
   "metadata": {},
   "source": [
    "<font size = 2>\n",
    "The calculation of the permeability thickness and skin factor from horner semilog plot are (Earlougher, 1977)\n",
    "\n",
    "$$ kh=\\frac{2.303 q \\mu}{4 \\pi m}$$\n",
    "\n",
    "$$ s = 1.513(\\frac{P_{1hr}-P_{wf}}{m} - \\log{(\\frac{k}{\\phi \\mu c_t r^2_w})} - 0.3514) $$\n",
    "\n",
    "</font>\n"
   ]
  },
  {
   "cell_type": "code",
   "execution_count": 61,
   "metadata": {},
   "outputs": [
    {
     "name": "stdout",
     "output_type": "stream",
     "text": [
      "Transmitivity or permeability thickness is : 1.4322e-11 m3 or 14.322169303754961 D.m\n",
      "The skin factor is 21.39039752755624 which is potentially damaged due scalling\n"
     ]
    }
   ],
   "source": [
    "from pyXSteam.XSteam import XSteam\n",
    "steam_table = XSteam(XSteam.UNIT_SYSTEM_MKS) # Use SI units\n",
    "\n",
    "# Water injection properties\n",
    "temp, m, h = 20, b1_1, 2030\n",
    "mu = steam_table.my_ph(steam_table.psat_t(temp),steam_table.hL_t(temp)) #kg/m.s\n",
    "q_inj_rate =  (mflowlist[-1]*(1000/3600))/(steam_table.rhoL_t(temp)) # m3/s #injection rate before fall off\n",
    "\n",
    "# Permeability transmitivity\n",
    "kh = (2.303 * q_inj_rate*mu)/(4*np.pi*m)\n",
    "print(f\"Transmitivity or permeability thickness is : {kh:.4e} m3 or {kh/1e-12} D.m\")\n",
    "\n",
    "# skin factor\n",
    "P1hr, Pi, c_t, h, porosity, r_w, k = 160.6300*1e5, 167.532518*1e5, 1.05e-8, 2030, 0.17, 0.183, kh/h\n",
    "A = (P1hr-Pi)/m\n",
    "B = (k/(porosity*mu*c_t**r_w))\n",
    "skin_factor = 1.1513*(A-np.log(B)-0.3514)\n",
    "\n",
    "if skin_factor > 2:\n",
    "    print(f\"The skin factor is {skin_factor} which is potentially damaged due scalling\")\n",
    "elif skin_factor < 0:\n",
    "    print(f\"The skin factor is {skin_factor}, means the well is potentially stimulated\")\n",
    "else:\n",
    "    print(f\"The skin factor is {skin_factor} which is indicating no formation damage\")"
   ]
  },
  {
   "cell_type": "markdown",
   "metadata": {},
   "source": [
    "<font size=2> \n",
    "The result shows that for the well with thickness of 2030 m, the permeability thickness is 14.322 D.m while the skin factor of the well is 21.39, indicating well damaged and potentially due to scalling.\n",
    "However, this script only demonstrate how the analytical method using horner time and plot was done. Hence, the result of the skin factor and permeability thickness may varies with numerical method.<br>\n",
    "\n",
    "\n",
    "\n",
    "References\n",
    "- Earlougher Jr., R.C., 1977. <i>Advances in Well Test Analysis</i>. Henry L. Doherty Memorial Fund of AIME,New York.\n",
    "- Zarrouk, S., McLean, K., 2019. <i>Geothermal Well Test Analysis: Fundamental, Applications and Advanced Techniques</i>. Elsevier, London.\n",
    "</font>"
   ]
  }
 ],
 "metadata": {
  "kernelspec": {
   "display_name": "Python 3",
   "language": "python",
   "name": "python3"
  },
  "language_info": {
   "codemirror_mode": {
    "name": "ipython",
    "version": 3
   },
   "file_extension": ".py",
   "mimetype": "text/x-python",
   "name": "python",
   "nbconvert_exporter": "python",
   "pygments_lexer": "ipython3",
   "version": "3.11.3"
  }
 },
 "nbformat": 4,
 "nbformat_minor": 2
}
